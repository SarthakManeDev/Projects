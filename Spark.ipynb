{
  "nbformat": 4,
  "nbformat_minor": 0,
  "metadata": {
    "colab": {
      "provenance": [],
      "toc_visible": true,
      "authorship_tag": "ABX9TyNeUhvi8XqbE+TznytX/xr5",
      "include_colab_link": true
    },
    "kernelspec": {
      "name": "python3",
      "display_name": "Python 3"
    },
    "language_info": {
      "name": "python"
    }
  },
  "cells": [
    {
      "cell_type": "markdown",
      "metadata": {
        "id": "view-in-github",
        "colab_type": "text"
      },
      "source": [
        "<a href=\"https://colab.research.google.com/github/SarthakManeDev/Projects/blob/main/Spark.ipynb\" target=\"_parent\"><img src=\"https://colab.research.google.com/assets/colab-badge.svg\" alt=\"Open In Colab\"/></a>"
      ]
    },
    {
      "cell_type": "code",
      "source": [
        "!pip install spark"
      ],
      "metadata": {
        "id": "L_vjmfBVHQG8"
      },
      "execution_count": null,
      "outputs": []
    },
    {
      "cell_type": "code",
      "source": [
        "import pyspark\n",
        "from pyspark.sql import SparkSession\n",
        "spark = SparkSession.builder.appName(\"example\").getOrCreate()\n",
        "help(pyspark)"
      ],
      "metadata": {
        "id": "9ytWpHuTQN1p"
      },
      "execution_count": null,
      "outputs": []
    },
    {
      "cell_type": "code",
      "source": [
        "import pyspark\n",
        "from pyspark.sql import SparkSession\n",
        "spark1 = SparkSession.builder.appName(\"example\").getOrCreate()"
      ],
      "metadata": {
        "id": "5Y_EufhJHfU8"
      },
      "execution_count": null,
      "outputs": []
    },
    {
      "cell_type": "code",
      "source": [
        "#pricelist = df1.select(\"total_bedrooms\").where(df1[\"total_bedrooms\"]>500)\n",
        "#pricelist.show()\n",
        "#query1 = spark1.sql(\"SELECT total_bedrooms from df1 where total_bedrooms>500\")\n",
        "dbutils.widgets.text(\"folder\", \"data\")"
      ],
      "metadata": {
        "id": "uzJiDbJNlhVR"
      },
      "execution_count": null,
      "outputs": []
    },
    {
      "cell_type": "code",
      "source": [
        "df1 = spark1.read.csv('/content/sample_data/california_housing_test.csv',header=True)\n",
        "df1.show()"
      ],
      "metadata": {
        "id": "Akphk8_CXD37"
      },
      "execution_count": null,
      "outputs": []
    },
    {
      "cell_type": "code",
      "source": [
        "spark.stop()\n",
        "spark1.stop()"
      ],
      "metadata": {
        "id": "W8-MAz9DX0oU"
      },
      "execution_count": null,
      "outputs": []
    }
  ]
}